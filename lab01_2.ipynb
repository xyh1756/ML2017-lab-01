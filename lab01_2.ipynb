{
 "cells": [
  {
   "cell_type": "code",
   "execution_count": 1,
   "metadata": {
    "collapsed": true
   },
   "outputs": [],
   "source": [
    "from sklearn.datasets import load_svmlight_file\n",
    "from sklearn.model_selection import train_test_split\n",
    "import numpy as np\n",
    "import matplotlib.pyplot as plt"
   ]
  },
  {
   "cell_type": "code",
   "execution_count": 3,
   "metadata": {},
   "outputs": [],
   "source": [
    "X, y = load_svmlight_file(\"data\", n_features=14)\n",
    "X = X.toarray()\n",
    "n_samples, n_features = X.shape\n",
    "X = np.column_stack((X, np.ones((n_samples, 1))))\n",
    "y = y.reshape((-1, 1))\n",
    "X_train, X_val, y_train, y_val = train_test_split(X, y, test_size=0.25)"
   ]
  },
  {
   "cell_type": "code",
   "execution_count": 4,
   "metadata": {},
   "outputs": [],
   "source": [
    "penalty_factor = 0.5  # L2 regular term coefficients\n",
    "learning_rate = 0.0004\n",
    "max_epoch = 200"
   ]
  },
  {
   "cell_type": "code",
   "execution_count": 5,
   "metadata": {},
   "outputs": [],
   "source": [
    "losses_train = []\n",
    "losses_val = []\n",
    "\n",
    "w = np.zeros((n_features + 1, 1))"
   ]
  },
  {
   "cell_type": "code",
   "execution_count": 6,
   "metadata": {},
   "outputs": [],
   "source": [
    "for epoch in range(max_epoch):\n",
    "    diff = np.dot(X_train, w) - y_train\n",
    "    G = penalty_factor * w + np.dot(X_train.transpose(), diff)  # calculate the gradient\n",
    "    G = -G\n",
    "    w += learning_rate * G  # update the parameters\n",
    "\n",
    "    Y_predict = np.dot(X_train, w)  # predict under the train set\n",
    "    loss_train = np.average(np.abs(Y_predict - y_train))  # calculate the absolute differences\n",
    "    losses_train.append(loss_train)\n",
    "\n",
    "    Y_predict = np.dot(X_val, w)  # predict under the validation set\n",
    "    loss_val = np.average(np.abs(Y_predict - y_val))  # calculate the absolute differences\n",
    "    losses_val.append(loss_val)"
   ]
  },
  {
   "cell_type": "code",
   "execution_count": 7,
   "metadata": {},
   "outputs": [
    {
     "name": "stdout",
     "output_type": "stream",
     "text": [
      "loss_train: 3.3148028495367776\nloss_val 3.303657905733998\n"
     ]
    }
   ],
   "source": [
    "print('loss_train:', loss_train)\n",
    "print('loss_val', loss_val)"
   ]
  },
  {
   "cell_type": "code",
   "execution_count": 8,
   "metadata": {},
   "outputs": [],
   "source": [
    "plt.figure(figsize=(18, 6))\n",
    "plt.plot(losses_train, \"-\", color=\"r\", label=\"train loss\")\n",
    "plt.plot(losses_val, \"-\", color=\"b\", label=\"validation loss\")\n",
    "plt.xlabel(\"epoch\")\n",
    "plt.ylabel(\"loss\")\n",
    "plt.legend()\n",
    "plt.title(\"The graph of absolute diff value varing with the number of iterations\")\n",
    "plt.show()"
   ]
  },
  {
   "cell_type": "code",
   "execution_count": null,
   "metadata": {},
   "outputs": [],
   "source": []
  }
 ],
 "metadata": {
  "kernelspec": {
   "display_name": "Python 2",
   "language": "python",
   "name": "python2"
  },
  "language_info": {
   "codemirror_mode": {
    "name": "ipython",
    "version": 2
   },
   "file_extension": ".py",
   "mimetype": "text/x-python",
   "name": "python",
   "nbconvert_exporter": "python",
   "pygments_lexer": "ipython2",
   "version": "2.7.6"
  }
 },
 "nbformat": 4,
 "nbformat_minor": 0
}
